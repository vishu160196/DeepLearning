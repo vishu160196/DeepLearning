{
 "cells": [
  {
   "cell_type": "code",
   "execution_count": 10,
   "metadata": {
    "collapsed": true
   },
   "outputs": [],
   "source": [
    "import apk_image as converter\n",
    "import pandas as pd\n",
    "from sklearn.preprocessing import QuantileTransformer\n",
    "from dnn_128_features import DNNClassifier\n",
    "import numpy as np\n",
    "\n"
   ]
  },
  {
   "cell_type": "code",
   "execution_count": 11,
   "metadata": {},
   "outputs": [
    {
     "name": "stdout",
     "output_type": "stream",
     "text": [
      "INFO:tensorflow:Using default config.\n",
      "WARNING:tensorflow:Using temporary folder as model directory: /tmp/tmp5534co07\n",
      "INFO:tensorflow:Using config: {'_num_worker_replicas': 1, '_keep_checkpoint_every_n_hours': 10000, '_service': None, '_session_config': None, '_save_checkpoints_steps': None, '_task_type': 'worker', '_log_step_count_steps': 100, '_cluster_spec': <tensorflow.python.training.server_lib.ClusterSpec object at 0x7f20ebceafd0>, '_tf_random_seed': None, '_save_summary_steps': 100, '_keep_checkpoint_max': 5, '_num_ps_replicas': 0, '_save_checkpoints_secs': 600, '_master': '', '_is_chief': True, '_model_dir': '/tmp/tmp5534co07', '_task_id': 0}\n",
      "INFO:tensorflow:Create CheckpointSaverHook.\n",
      "INFO:tensorflow:Saving checkpoints for 1 into /tmp/tmp5534co07/model.ckpt.\n",
      "INFO:tensorflow:loss = 6.45497e+07, step = 1\n",
      "INFO:tensorflow:global_step/sec: 18.4193\n",
      "INFO:tensorflow:loss = 37.1033, step = 101 (5.436 sec)\n",
      "INFO:tensorflow:global_step/sec: 19.616\n",
      "INFO:tensorflow:loss = 50.9151, step = 201 (5.103 sec)\n",
      "INFO:tensorflow:global_step/sec: 20.1151\n",
      "INFO:tensorflow:loss = 40.6094, step = 301 (4.963 sec)\n",
      "INFO:tensorflow:global_step/sec: 20.4534\n",
      "INFO:tensorflow:loss = 35.4695, step = 401 (4.896 sec)\n",
      "INFO:tensorflow:global_step/sec: 19.5366\n",
      "INFO:tensorflow:loss = 47.9635, step = 501 (5.117 sec)\n",
      "INFO:tensorflow:global_step/sec: 19.6051\n",
      "INFO:tensorflow:loss = 40.9644, step = 601 (5.098 sec)\n",
      "INFO:tensorflow:global_step/sec: 19.2519\n",
      "INFO:tensorflow:loss = 35.2228, step = 701 (5.194 sec)\n",
      "INFO:tensorflow:global_step/sec: 19.7011\n",
      "INFO:tensorflow:loss = 40.4983, step = 801 (5.077 sec)\n",
      "INFO:tensorflow:global_step/sec: 19.0589\n",
      "INFO:tensorflow:loss = 40.5262, step = 901 (5.246 sec)\n",
      "INFO:tensorflow:Saving checkpoints for 1000 into /tmp/tmp5534co07/model.ckpt.\n",
      "INFO:tensorflow:Loss for final step: 37.0881.\n",
      "WARNING:tensorflow:Casting <dtype: 'float32'> labels to bool.\n",
      "WARNING:tensorflow:Casting <dtype: 'float32'> labels to bool.\n",
      "INFO:tensorflow:Starting evaluation at 2018-01-13-10:00:56\n",
      "INFO:tensorflow:Restoring parameters from /tmp/tmp5534co07/model.ckpt-1000\n",
      "INFO:tensorflow:Finished evaluation at 2018-01-13-10:00:58\n",
      "INFO:tensorflow:Saving dict for global step 1000: accuracy = 0.9, accuracy_baseline = 0.9, auc = 0.5, auc_precision_recall = 0.95, average_loss = 0.329944, global_step = 1000, label/mean = 0.9, loss = 3.29944, prediction/mean = 0.867853\n"
     ]
    }
   ],
   "source": [
    "data, labels = converter.convert()\n",
    "\n",
    "X_headers = []\n",
    "for i in range(153):\n",
    "    X_headers.append(str(i))\n",
    "y_headers = ['0']\n",
    "\n",
    "total_apps = labels.shape[0]\n",
    "start = 50\n",
    "step = 100\n",
    "number_of_apps_taken_list = list(range(start, 1701, step))\n",
    "\n",
    "classifier=DNNClassifier()\n",
    "\n",
    "train_images = np.array(data[:100], copy=True)\n",
    "test_images = np.array(data[100:110], copy=True)\n",
    "\n",
    "scaler_model = QuantileTransformer(output_distribution='normal')\n",
    "\n",
    "scaler_model.fit(train_images)\n",
    "scaler_model.transform(train_images)\n",
    "scaler_model.transform(test_images)\n",
    "\n",
    "train_images = pd.DataFrame(train_images, columns=X_headers)\n",
    "test_images = pd.DataFrame(test_images, columns=X_headers)\n",
    "\n",
    "train_labels = pd.DataFrame(labels[:100], columns=y_headers)\n",
    "test_labels = pd.DataFrame(labels[100:110], columns=y_headers)\n",
    "\n",
    "classifier.set_data(train_images, train_labels)\n",
    "classifier.train()\n",
    "results = classifier.test(test_images, test_labels)"
   ]
  },
  {
   "cell_type": "code",
   "execution_count": 12,
   "metadata": {},
   "outputs": [
    {
     "data": {
      "text/plain": [
       "{'accuracy': 0.89999998,\n",
       " 'accuracy_baseline': 0.89999998,\n",
       " 'auc': 0.49999958,\n",
       " 'auc_precision_recall': 0.94999993,\n",
       " 'average_loss': 0.3299436,\n",
       " 'global_step': 1000,\n",
       " 'label/mean': 0.89999998,\n",
       " 'loss': 3.2994359,\n",
       " 'prediction/mean': 0.86785328}"
      ]
     },
     "execution_count": 12,
     "metadata": {},
     "output_type": "execute_result"
    }
   ],
   "source": [
    "results"
   ]
  }
 ],
 "metadata": {
  "kernelspec": {
   "display_name": "Python 3",
   "language": "python",
   "name": "python3"
  },
  "language_info": {
   "codemirror_mode": {
    "name": "ipython",
    "version": 3
   },
   "file_extension": ".py",
   "mimetype": "text/x-python",
   "name": "python",
   "nbconvert_exporter": "python",
   "pygments_lexer": "ipython3",
   "version": "3.5.4"
  }
 },
 "nbformat": 4,
 "nbformat_minor": 2
}
