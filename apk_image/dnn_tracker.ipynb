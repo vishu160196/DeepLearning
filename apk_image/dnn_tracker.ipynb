{
 "cells": [
  {
   "cell_type": "code",
   "execution_count": 1,
   "metadata": {
    "collapsed": true
   },
   "outputs": [],
   "source": [
    "import apk_image as converter\n",
    "from sklearn.preprocessing import StandardScaler\n",
    "import numpy as np"
   ]
  },
  {
   "cell_type": "code",
   "execution_count": 68,
   "metadata": {},
   "outputs": [],
   "source": [
    "data, labels = converter.convert()\n",
    "labels=np.where(labels==0.0, 0, 1)\n",
    "n=1550\n",
    "total_apps = labels.shape[0]\n",
    "scaler_model = StandardScaler()"
   ]
  },
  {
   "cell_type": "code",
   "execution_count": 69,
   "metadata": {
    "collapsed": true
   },
   "outputs": [],
   "source": [
    "data=np.where(data<100, data, 0)\n",
    "data_aux=np.array(data, copy=True)\n",
    "data=data[:n,:]\n",
    "labels_aux=np.array(labels, copy=True)\n",
    "labels=labels[:n,:]"
   ]
  },
  {
   "cell_type": "code",
   "execution_count": null,
   "metadata": {
    "collapsed": true
   },
   "outputs": [],
   "source": []
  },
  {
   "cell_type": "code",
   "execution_count": 70,
   "metadata": {},
   "outputs": [
    {
     "name": "stdout",
     "output_type": "stream",
     "text": [
      "INFO:tensorflow:Using default config.\n",
      "WARNING:tensorflow:Using temporary folder as model directory: /tmp/tmp761x1xl8\n",
      "INFO:tensorflow:Using config: {'_save_summary_steps': 100, '_num_ps_replicas': 0, '_service': None, '_model_dir': '/tmp/tmp761x1xl8', '_is_chief': True, '_keep_checkpoint_every_n_hours': 10000, '_task_id': 0, '_tf_random_seed': None, '_task_type': 'worker', '_keep_checkpoint_max': 5, '_num_worker_replicas': 1, '_session_config': None, '_log_step_count_steps': 100, '_save_checkpoints_secs': 600, '_save_checkpoints_steps': None, '_cluster_spec': <tensorflow.python.training.server_lib.ClusterSpec object at 0x7fe7e8cbfc18>, '_master': ''}\n",
      "number of apps taken [1550]\n",
      "fold number 0\n",
      "INFO:tensorflow:Create CheckpointSaverHook.\n",
      "INFO:tensorflow:Saving checkpoints for 1 into /tmp/tmp761x1xl8/model.ckpt.\n",
      "INFO:tensorflow:step = 1, loss = 956.642\n",
      "INFO:tensorflow:Saving checkpoints for 100 into /tmp/tmp761x1xl8/model.ckpt.\n",
      "INFO:tensorflow:Loss for final step: 32.8823.\n",
      "WARNING:tensorflow:Casting <dtype: 'float32'> labels to bool.\n",
      "WARNING:tensorflow:Casting <dtype: 'float32'> labels to bool.\n",
      "INFO:tensorflow:Starting evaluation at 2018-01-14-15:37:16\n",
      "INFO:tensorflow:Restoring parameters from /tmp/tmp761x1xl8/model.ckpt-100\n",
      "INFO:tensorflow:Finished evaluation at 2018-01-14-15:37:17\n",
      "INFO:tensorflow:Saving dict for global step 100: accuracy = 0.983871, accuracy_baseline = 0.890323, auc = 0.998082, auc_precision_recall = 0.999764, average_loss = 0.0378132, global_step = 100, label/mean = 0.890323, loss = 11.7221, prediction/mean = 0.896336\n",
      "INFO:tensorflow:Create CheckpointSaverHook.\n",
      "INFO:tensorflow:Restoring parameters from /tmp/tmp761x1xl8/model.ckpt-100\n",
      "INFO:tensorflow:Saving checkpoints for 101 into /tmp/tmp761x1xl8/model.ckpt.\n",
      "INFO:tensorflow:step = 101, loss = 33.704\n",
      "INFO:tensorflow:Saving checkpoints for 200 into /tmp/tmp761x1xl8/model.ckpt.\n",
      "INFO:tensorflow:Loss for final step: 17.7104.\n",
      "WARNING:tensorflow:Casting <dtype: 'float32'> labels to bool.\n",
      "WARNING:tensorflow:Casting <dtype: 'float32'> labels to bool.\n",
      "INFO:tensorflow:Starting evaluation at 2018-01-14-15:38:11\n",
      "INFO:tensorflow:Restoring parameters from /tmp/tmp761x1xl8/model.ckpt-200\n",
      "INFO:tensorflow:Finished evaluation at 2018-01-14-15:38:13\n",
      "INFO:tensorflow:Saving dict for global step 200: accuracy = 0.983871, accuracy_baseline = 0.890323, auc = 0.998188, auc_precision_recall = 0.999778, average_loss = 0.0376051, global_step = 200, label/mean = 0.890323, loss = 11.6576, prediction/mean = 0.897942\n",
      "accuracy is 0.9838709831237793\n",
      "fold number 1\n",
      "INFO:tensorflow:Create CheckpointSaverHook.\n",
      "INFO:tensorflow:Restoring parameters from /tmp/tmp761x1xl8/model.ckpt-200\n",
      "INFO:tensorflow:Saving checkpoints for 201 into /tmp/tmp761x1xl8/model.ckpt.\n",
      "INFO:tensorflow:step = 201, loss = 25.1747\n",
      "INFO:tensorflow:Saving checkpoints for 300 into /tmp/tmp761x1xl8/model.ckpt.\n",
      "INFO:tensorflow:Loss for final step: 14.4735.\n",
      "WARNING:tensorflow:Casting <dtype: 'float32'> labels to bool.\n",
      "WARNING:tensorflow:Casting <dtype: 'float32'> labels to bool.\n",
      "INFO:tensorflow:Starting evaluation at 2018-01-14-15:39:07\n",
      "INFO:tensorflow:Restoring parameters from /tmp/tmp761x1xl8/model.ckpt-300\n",
      "INFO:tensorflow:Finished evaluation at 2018-01-14-15:39:08\n",
      "INFO:tensorflow:Saving dict for global step 300: accuracy = 0.980645, accuracy_baseline = 0.845161, auc = 0.998887, auc_precision_recall = 0.999797, average_loss = 0.0391336, global_step = 300, label/mean = 0.845161, loss = 12.1314, prediction/mean = 0.853922\n",
      "INFO:tensorflow:Create CheckpointSaverHook.\n",
      "INFO:tensorflow:Restoring parameters from /tmp/tmp761x1xl8/model.ckpt-300\n",
      "INFO:tensorflow:Saving checkpoints for 301 into /tmp/tmp761x1xl8/model.ckpt.\n",
      "INFO:tensorflow:step = 301, loss = 17.5789\n",
      "INFO:tensorflow:Saving checkpoints for 400 into /tmp/tmp761x1xl8/model.ckpt.\n",
      "INFO:tensorflow:Loss for final step: 13.3622.\n",
      "WARNING:tensorflow:Casting <dtype: 'float32'> labels to bool.\n",
      "WARNING:tensorflow:Casting <dtype: 'float32'> labels to bool.\n",
      "INFO:tensorflow:Starting evaluation at 2018-01-14-15:40:00\n",
      "INFO:tensorflow:Restoring parameters from /tmp/tmp761x1xl8/model.ckpt-400\n",
      "INFO:tensorflow:Finished evaluation at 2018-01-14-15:40:02\n",
      "INFO:tensorflow:Saving dict for global step 400: accuracy = 0.980645, accuracy_baseline = 0.845161, auc = 0.997972, auc_precision_recall = 0.999629, average_loss = 0.0519233, global_step = 400, label/mean = 0.845161, loss = 16.0962, prediction/mean = 0.855487\n",
      "accuracy is 0.9806451797485352\n",
      "fold number 2\n",
      "INFO:tensorflow:Create CheckpointSaverHook.\n",
      "INFO:tensorflow:Restoring parameters from /tmp/tmp761x1xl8/model.ckpt-400\n",
      "INFO:tensorflow:Saving checkpoints for 401 into /tmp/tmp761x1xl8/model.ckpt.\n",
      "INFO:tensorflow:step = 401, loss = 37.8955\n",
      "INFO:tensorflow:Saving checkpoints for 500 into /tmp/tmp761x1xl8/model.ckpt.\n",
      "INFO:tensorflow:Loss for final step: 16.223.\n",
      "WARNING:tensorflow:Casting <dtype: 'float32'> labels to bool.\n",
      "WARNING:tensorflow:Casting <dtype: 'float32'> labels to bool.\n",
      "INFO:tensorflow:Starting evaluation at 2018-01-14-15:40:55\n",
      "INFO:tensorflow:Restoring parameters from /tmp/tmp761x1xl8/model.ckpt-500\n",
      "INFO:tensorflow:Finished evaluation at 2018-01-14-15:40:57\n",
      "INFO:tensorflow:Saving dict for global step 500: accuracy = 0.996774, accuracy_baseline = 0.86129, auc = 1.0, auc_precision_recall = 1.0, average_loss = 0.00963151, global_step = 500, label/mean = 0.86129, loss = 2.98577, prediction/mean = 0.859803\n",
      "INFO:tensorflow:Create CheckpointSaverHook.\n",
      "INFO:tensorflow:Restoring parameters from /tmp/tmp761x1xl8/model.ckpt-500\n",
      "INFO:tensorflow:Saving checkpoints for 501 into /tmp/tmp761x1xl8/model.ckpt.\n",
      "INFO:tensorflow:step = 501, loss = 16.1967\n",
      "INFO:tensorflow:Saving checkpoints for 600 into /tmp/tmp761x1xl8/model.ckpt.\n",
      "INFO:tensorflow:Loss for final step: 12.6289.\n",
      "WARNING:tensorflow:Casting <dtype: 'float32'> labels to bool.\n",
      "WARNING:tensorflow:Casting <dtype: 'float32'> labels to bool.\n",
      "INFO:tensorflow:Starting evaluation at 2018-01-14-15:41:49\n",
      "INFO:tensorflow:Restoring parameters from /tmp/tmp761x1xl8/model.ckpt-600\n",
      "INFO:tensorflow:Finished evaluation at 2018-01-14-15:41:51\n",
      "INFO:tensorflow:Saving dict for global step 600: accuracy = 0.996774, accuracy_baseline = 0.86129, auc = 1.0, auc_precision_recall = 1.0, average_loss = 0.0101047, global_step = 600, label/mean = 0.86129, loss = 3.13245, prediction/mean = 0.859984\n",
      "accuracy is 0.9967741966247559\n",
      "fold number 3\n",
      "INFO:tensorflow:Create CheckpointSaverHook.\n",
      "INFO:tensorflow:Restoring parameters from /tmp/tmp761x1xl8/model.ckpt-600\n",
      "INFO:tensorflow:Saving checkpoints for 601 into /tmp/tmp761x1xl8/model.ckpt.\n",
      "INFO:tensorflow:step = 601, loss = 15.1051\n",
      "INFO:tensorflow:Saving checkpoints for 700 into /tmp/tmp761x1xl8/model.ckpt.\n",
      "INFO:tensorflow:Loss for final step: 9.34725.\n",
      "WARNING:tensorflow:Casting <dtype: 'float32'> labels to bool.\n",
      "WARNING:tensorflow:Casting <dtype: 'float32'> labels to bool.\n",
      "INFO:tensorflow:Starting evaluation at 2018-01-14-15:42:44\n",
      "INFO:tensorflow:Restoring parameters from /tmp/tmp761x1xl8/model.ckpt-700\n",
      "INFO:tensorflow:Finished evaluation at 2018-01-14-15:42:46\n",
      "INFO:tensorflow:Saving dict for global step 700: accuracy = 1.0, accuracy_baseline = 0.867742, auc = 1.0, auc_precision_recall = 1.0, average_loss = 0.00725196, global_step = 700, label/mean = 0.867742, loss = 2.24811, prediction/mean = 0.864878\n",
      "INFO:tensorflow:Create CheckpointSaverHook.\n",
      "INFO:tensorflow:Restoring parameters from /tmp/tmp761x1xl8/model.ckpt-700\n",
      "INFO:tensorflow:Saving checkpoints for 701 into /tmp/tmp761x1xl8/model.ckpt.\n",
      "INFO:tensorflow:step = 701, loss = 12.1625\n",
      "INFO:tensorflow:Saving checkpoints for 800 into /tmp/tmp761x1xl8/model.ckpt.\n",
      "INFO:tensorflow:Loss for final step: 9.68502.\n",
      "WARNING:tensorflow:Casting <dtype: 'float32'> labels to bool.\n",
      "WARNING:tensorflow:Casting <dtype: 'float32'> labels to bool.\n",
      "INFO:tensorflow:Starting evaluation at 2018-01-14-15:43:39\n",
      "INFO:tensorflow:Restoring parameters from /tmp/tmp761x1xl8/model.ckpt-800\n",
      "INFO:tensorflow:Finished evaluation at 2018-01-14-15:43:40\n",
      "INFO:tensorflow:Saving dict for global step 800: accuracy = 0.996774, accuracy_baseline = 0.867742, auc = 1.0, auc_precision_recall = 1.0, average_loss = 0.00736174, global_step = 800, label/mean = 0.867742, loss = 2.28214, prediction/mean = 0.865172\n"
     ]
    },
    {
     "name": "stdout",
     "output_type": "stream",
     "text": [
      "accuracy is 1.0\n",
      "fold number 4\n",
      "INFO:tensorflow:Create CheckpointSaverHook.\n",
      "INFO:tensorflow:Restoring parameters from /tmp/tmp761x1xl8/model.ckpt-800\n",
      "INFO:tensorflow:Saving checkpoints for 801 into /tmp/tmp761x1xl8/model.ckpt.\n",
      "INFO:tensorflow:step = 801, loss = 8.84794\n",
      "INFO:tensorflow:Saving checkpoints for 900 into /tmp/tmp761x1xl8/model.ckpt.\n",
      "INFO:tensorflow:Loss for final step: 7.93523.\n",
      "WARNING:tensorflow:Casting <dtype: 'float32'> labels to bool.\n",
      "WARNING:tensorflow:Casting <dtype: 'float32'> labels to bool.\n",
      "INFO:tensorflow:Starting evaluation at 2018-01-14-15:44:34\n",
      "INFO:tensorflow:Restoring parameters from /tmp/tmp761x1xl8/model.ckpt-900\n",
      "INFO:tensorflow:Finished evaluation at 2018-01-14-15:44:35\n",
      "INFO:tensorflow:Saving dict for global step 900: accuracy = 1.0, accuracy_baseline = 0.870968, auc = 1.0, auc_precision_recall = 1.0, average_loss = 0.0102278, global_step = 900, label/mean = 0.870968, loss = 3.17063, prediction/mean = 0.867375\n",
      "INFO:tensorflow:Create CheckpointSaverHook.\n",
      "INFO:tensorflow:Restoring parameters from /tmp/tmp761x1xl8/model.ckpt-900\n",
      "INFO:tensorflow:Saving checkpoints for 901 into /tmp/tmp761x1xl8/model.ckpt.\n",
      "INFO:tensorflow:step = 901, loss = 8.21411\n",
      "INFO:tensorflow:Saving checkpoints for 1000 into /tmp/tmp761x1xl8/model.ckpt.\n",
      "INFO:tensorflow:Loss for final step: 9.05324.\n",
      "WARNING:tensorflow:Casting <dtype: 'float32'> labels to bool.\n",
      "WARNING:tensorflow:Casting <dtype: 'float32'> labels to bool.\n",
      "INFO:tensorflow:Starting evaluation at 2018-01-14-15:45:28\n",
      "INFO:tensorflow:Restoring parameters from /tmp/tmp761x1xl8/model.ckpt-1000\n",
      "INFO:tensorflow:Finished evaluation at 2018-01-14-15:45:30\n",
      "INFO:tensorflow:Saving dict for global step 1000: accuracy = 1.0, accuracy_baseline = 0.870968, auc = 1.0, auc_precision_recall = 1.0, average_loss = 0.0111174, global_step = 1000, label/mean = 0.870968, loss = 3.44639, prediction/mean = 0.867412\n",
      "accuracy is 1.0\n"
     ]
    }
   ],
   "source": [
    "fold_size = int(n / 5)\n",
    "\n",
    "feature_columns = [str(i) for i in range(153)]\n",
    "feature_cols = [tf.feature_column.numeric_column(k) for k in feature_columns]\n",
    "\n",
    "acc_sum = 0.0\n",
    "model = tf.estimator.DNNClassifier([15], feature_columns=feature_cols, optimizer='Adagrad')\n",
    "print('number of apps taken {}'.format([n]))\n",
    "for i in range(5):\n",
    "    train_set = {\n",
    "        'data': np.concatenate((data[0:i * fold_size, :], data[i * fold_size + fold_size:, :]), axis=0),\n",
    "        'labels': np.concatenate((labels[0:i * fold_size, :], labels[i * fold_size + fold_size:, :]), axis=0)\n",
    "    }\n",
    "    test_set = {\n",
    "        'data': data[i * fold_size:i * fold_size + fold_size, :],\n",
    "        'labels': labels[i * fold_size:i * fold_size + fold_size:, :]\n",
    "    }\n",
    "\n",
    "    train_images = np.array(train_set['data'], copy=True)\n",
    "    test_images = np.array(test_set['data'], copy=True)\n",
    "\n",
    "    scaler_model.fit(train_images)\n",
    "    scaler_model.transform(train_images)\n",
    "    scaler_model.transform(test_images)\n",
    "\n",
    "    feature_dict_train = {str(i): train_images[:, i:i + 1] for i in range(153)}\n",
    "    feature_dict_test = {str(i): test_images[:, i:i + 1] for i in range(153)}\n",
    "    train_input_func = tf.estimator.inputs.numpy_input_fn(x=feature_dict_train, y=train_set['labels'],\n",
    "                                                          num_epochs=None, shuffle=True,\n",
    "                                                          batch_size=train_images.shape[0])\n",
    "    eval_input_func = tf.estimator.inputs.numpy_input_fn(x=feature_dict_test, y=test_set['labels'], num_epochs=1,\n",
    "                                                         shuffle=False, batch_size=test_images.shape[0])\n",
    "    print('fold number {}'.format(i))\n",
    "    acc = 0\n",
    "    prev_acc = -1\n",
    "    while acc > prev_acc:\n",
    "        model.train(train_input_func, steps=100)\n",
    "        results = model.evaluate(eval_input_func)\n",
    "        prev_acc = acc\n",
    "        acc = results['accuracy']\n",
    "    acc_sum += prev_acc\n",
    "    print('accuracy is {}'.format(prev_acc))\n",
    "\n",
    "average_accuracy = acc_sum / 5"
   ]
  },
  {
   "cell_type": "code",
   "execution_count": 71,
   "metadata": {},
   "outputs": [
    {
     "data": {
      "text/plain": [
       "0.99225807189941406"
      ]
     },
     "execution_count": 71,
     "metadata": {},
     "output_type": "execute_result"
    }
   ],
   "source": [
    "average_accuracy"
   ]
  },
  {
   "cell_type": "code",
   "execution_count": 72,
   "metadata": {},
   "outputs": [],
   "source": [
    "train_images=np.array(data_aux[1551:1700,:], copy=True)\n",
    "\n",
    "scaler_model.fit(train_images)\n",
    "scaler_model.transform(train_images)\n",
    "predict_input_func = tf.estimator.inputs.numpy_input_fn(x={str(i): train_images[:, i:i + 1] for i in range(153)}, y=labels_aux[1551:1700,:],\n",
    "                                                          num_epochs=1, shuffle=False,\n",
    "                                                          batch_size=train_images.shape[0])\n",
    "p=model.predict(predict_input_func)"
   ]
  },
  {
   "cell_type": "code",
   "execution_count": 99,
   "metadata": {},
   "outputs": [],
   "source": [
    "p=list(p)"
   ]
  },
  {
   "cell_type": "code",
   "execution_count": 100,
   "metadata": {},
   "outputs": [],
   "source": [
    "a=np.random.permutation(range(len(p)))"
   ]
  },
  {
   "cell_type": "code",
   "execution_count": 101,
   "metadata": {},
   "outputs": [],
   "source": [
    "acc=[p[i]['class_ids'][0] for i in range(len(p))]"
   ]
  },
  {
   "cell_type": "code",
   "execution_count": 102,
   "metadata": {},
   "outputs": [
    {
     "data": {
      "text/plain": [
       "(149, 1)"
      ]
     },
     "execution_count": 102,
     "metadata": {},
     "output_type": "execute_result"
    }
   ],
   "source": [
    "labels_aux[1551:1700].shape"
   ]
  },
  {
   "cell_type": "code",
   "execution_count": 103,
   "metadata": {},
   "outputs": [
    {
     "data": {
      "text/plain": [
       "149"
      ]
     },
     "execution_count": 103,
     "metadata": {},
     "output_type": "execute_result"
    }
   ],
   "source": [
    "len(acc)"
   ]
  },
  {
   "cell_type": "code",
   "execution_count": 104,
   "metadata": {},
   "outputs": [],
   "source": [
    "acc=np.array(acc)"
   ]
  },
  {
   "cell_type": "code",
   "execution_count": 106,
   "metadata": {},
   "outputs": [],
   "source": [
    "labels_=np.reshape(labels_aux[1551:1700], -1)"
   ]
  },
  {
   "cell_type": "code",
   "execution_count": 112,
   "metadata": {},
   "outputs": [
    {
     "data": {
      "text/plain": [
       "array([ True,  True,  True,  True,  True,  True,  True,  True,  True,\n",
       "        True,  True,  True,  True,  True,  True,  True,  True,  True,\n",
       "        True,  True,  True,  True,  True,  True,  True,  True,  True,\n",
       "        True,  True,  True,  True,  True,  True,  True,  True,  True,\n",
       "        True, False,  True,  True,  True,  True,  True,  True,  True,\n",
       "        True,  True,  True,  True,  True,  True,  True,  True,  True,\n",
       "        True,  True,  True,  True,  True,  True,  True,  True,  True,\n",
       "        True,  True,  True,  True,  True,  True,  True,  True,  True,\n",
       "        True,  True,  True,  True,  True,  True,  True,  True,  True,\n",
       "        True,  True,  True,  True,  True,  True,  True,  True,  True,\n",
       "        True,  True,  True,  True,  True,  True,  True,  True,  True,\n",
       "        True,  True,  True,  True,  True,  True,  True,  True,  True,\n",
       "        True,  True,  True,  True,  True,  True,  True,  True,  True,\n",
       "        True,  True,  True,  True,  True,  True,  True,  True,  True,\n",
       "        True,  True,  True,  True,  True,  True,  True,  True,  True,\n",
       "        True, False,  True,  True,  True,  True,  True,  True,  True,\n",
       "        True,  True,  True,  True,  True], dtype=bool)"
      ]
     },
     "execution_count": 112,
     "metadata": {},
     "output_type": "execute_result"
    }
   ],
   "source": [
    "acc==labels_"
   ]
  },
  {
   "cell_type": "code",
   "execution_count": 108,
   "metadata": {},
   "outputs": [
    {
     "data": {
      "text/plain": [
       "array([1, 1, 1, 1, 1, 1, 1, 1, 1, 1, 1, 1, 1, 0, 1, 1, 1, 1, 1, 1, 1, 1, 1,\n",
       "       1, 0, 1, 1, 1, 1, 1, 1, 1, 0, 1, 1, 1, 1, 1, 1, 1, 1, 1, 1, 1, 1, 1,\n",
       "       1, 1, 1, 1, 1, 1, 1, 1, 1, 1, 1, 1, 1, 1, 1, 1, 1, 1, 1, 1, 1, 1, 1,\n",
       "       0, 1, 1, 1, 0, 1, 1, 1, 1, 1, 1, 1, 1, 1, 1, 1, 1, 1, 0, 1, 1, 1, 1,\n",
       "       1, 1, 1, 1, 1, 1, 1, 1, 1, 0, 1, 1, 1, 1, 1, 1, 1, 1, 1, 1, 1, 1, 1,\n",
       "       1, 1, 1, 1, 1, 0, 0, 1, 1, 1, 1, 1, 1, 1, 1, 1, 1, 1, 1, 1, 1, 0, 1,\n",
       "       1, 1, 1, 1, 1, 1, 1, 1, 1, 1, 0])"
      ]
     },
     "execution_count": 108,
     "metadata": {},
     "output_type": "execute_result"
    }
   ],
   "source": [
    "acc"
   ]
  },
  {
   "cell_type": "code",
   "execution_count": 109,
   "metadata": {},
   "outputs": [
    {
     "data": {
      "text/plain": [
       "array([1, 1, 1, 1, 1, 1, 1, 1, 1, 1, 1, 1, 1, 0, 1, 1, 1, 1, 1, 1, 1, 1, 1,\n",
       "       1, 0, 1, 1, 1, 1, 1, 1, 1, 0, 1, 1, 1, 1, 0, 1, 1, 1, 1, 1, 1, 1, 1,\n",
       "       1, 1, 1, 1, 1, 1, 1, 1, 1, 1, 1, 1, 1, 1, 1, 1, 1, 1, 1, 1, 1, 1, 1,\n",
       "       0, 1, 1, 1, 0, 1, 1, 1, 1, 1, 1, 1, 1, 1, 1, 1, 1, 1, 0, 1, 1, 1, 1,\n",
       "       1, 1, 1, 1, 1, 1, 1, 1, 1, 0, 1, 1, 1, 1, 1, 1, 1, 1, 1, 1, 1, 1, 1,\n",
       "       1, 1, 1, 1, 1, 0, 0, 1, 1, 1, 1, 1, 1, 1, 1, 1, 1, 1, 1, 1, 1, 1, 1,\n",
       "       1, 1, 1, 1, 1, 1, 1, 1, 1, 1, 0])"
      ]
     },
     "execution_count": 109,
     "metadata": {},
     "output_type": "execute_result"
    }
   ],
   "source": [
    "labels_"
   ]
  },
  {
   "cell_type": "code",
   "execution_count": null,
   "metadata": {
    "collapsed": true
   },
   "outputs": [],
   "source": []
  }
 ],
 "metadata": {
  "kernelspec": {
   "display_name": "Python 3",
   "language": "python",
   "name": "python3"
  },
  "language_info": {
   "codemirror_mode": {
    "name": "ipython",
    "version": 3
   },
   "file_extension": ".py",
   "mimetype": "text/x-python",
   "name": "python",
   "nbconvert_exporter": "python",
   "pygments_lexer": "ipython3",
   "version": "3.5.4"
  }
 },
 "nbformat": 4,
 "nbformat_minor": 2
}
