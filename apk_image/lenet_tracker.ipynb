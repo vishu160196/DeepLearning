{
 "cells": [
  {
   "cell_type": "code",
   "execution_count": 1,
   "metadata": {
    "collapsed": true
   },
   "outputs": [],
   "source": [
    "import apk_image as converter\n",
    "from sklearn.preprocessing import StandardScaler\n",
    "import numpy as np\n",
    "from image_classifier import LenetClassifier\n",
    "import tensorflow as tf"
   ]
  },
  {
   "cell_type": "code",
   "execution_count": 2,
   "metadata": {
    "collapsed": true
   },
   "outputs": [],
   "source": [
    "data, labels = converter.convert(label_encoding='one-hot-encoded')\n",
    "data=np.concatenate((data, np.zeros((data.shape[0], 154-data.shape[1]), dtype=float)), axis=1)\n",
    "\n",
    "n=1500\n",
    "total_apps = labels.shape[0]\n",
    "number_of_apps_taken_list = [750]\n",
    "graph = []\n",
    "scaler_model = StandardScaler()"
   ]
  },
  {
   "cell_type": "code",
   "execution_count": 3,
   "metadata": {
    "collapsed": true
   },
   "outputs": [],
   "source": [
    "data=np.where(data<100, data, 0)"
   ]
  },
  {
   "cell_type": "code",
   "execution_count": 4,
   "metadata": {
    "collapsed": true
   },
   "outputs": [],
   "source": [
    "data=data[:n,:]\n",
    "labels=labels[:n,:]"
   ]
  },
  {
   "cell_type": "code",
   "execution_count": 5,
   "metadata": {},
   "outputs": [
    {
     "name": "stdout",
     "output_type": "stream",
     "text": [
      "fold number 0accuracy is 96.66666388511658\n",
      "fold number 1accuracy is 98.00000190734863\n",
      "fold number 2accuracy is 98.33333492279053\n",
      "fold number 3accuracy is 98.00000190734863\n",
      "fold number 4accuracy is 97.66666889190674\n",
      "apps taken 1500average accuracy is 97.73333430290222\n"
     ]
    }
   ],
   "source": [
    "-\n",
    "print('apps taken {}'.format(n) + 'average accuracy is {}'.format(average_accuracy))\n",
    "\n"
   ]
  },
  {
   "cell_type": "markdown",
   "metadata": {},
   "source": [
    "250 95\n",
    "500 96.2\n",
    "750 97.07\n",
    "1000average accuracy is 97.2000002861023\n",
    "1250 97.28\n",
    "1500 97.73333430290222"
   ]
  }
 ],
 "metadata": {
  "kernelspec": {
   "display_name": "Python 3",
   "language": "python",
   "name": "python3"
  },
  "language_info": {
   "codemirror_mode": {
    "name": "ipython",
    "version": 3
   },
   "file_extension": ".py",
   "mimetype": "text/x-python",
   "name": "python",
   "nbconvert_exporter": "python",
   "pygments_lexer": "ipython3",
   "version": "3.5.4"
  }
 },
 "nbformat": 4,
 "nbformat_minor": 2
}
